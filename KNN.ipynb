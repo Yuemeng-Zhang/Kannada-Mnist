{
 "cells": [
  {
   "cell_type": "code",
   "execution_count": 22,
   "metadata": {},
   "outputs": [],
   "source": [
    "import numpy as np \n",
    "import pandas as pd \n",
    "import matplotlib.pyplot as plt\n",
    "\n",
    "from sklearn.model_selection import train_test_split\n",
    "\n",
    "import time\n",
    "from sklearn.metrics import accuracy_score,classification_report,confusion_matrix\n",
    "from sklearn.neighbors import KNeighborsClassifier"
   ]
  },
  {
   "cell_type": "code",
   "execution_count": 4,
   "metadata": {},
   "outputs": [
    {
     "data": {
      "text/plain": [
       "(60000, 785)"
      ]
     },
     "execution_count": 4,
     "metadata": {},
     "output_type": "execute_result"
    }
   ],
   "source": [
    "data_dir = \"./Kannada-MNIST/\"\n",
    "train = pd.read_csv(data_dir + \"train.csv\")\n",
    "train.shape"
   ]
  },
  {
   "cell_type": "code",
   "execution_count": 31,
   "metadata": {},
   "outputs": [
    {
     "data": {
      "text/plain": [
       "(5000, 785)"
      ]
     },
     "execution_count": 31,
     "metadata": {},
     "output_type": "execute_result"
    }
   ],
   "source": [
    "data_dir = \"./Kannada-MNIST/\"\n",
    "test = pd.read_csv(data_dir + \"test.csv\")\n",
    "test.shape"
   ]
  },
  {
   "cell_type": "code",
   "execution_count": 32,
   "metadata": {},
   "outputs": [],
   "source": [
    "X_train = train.values[:,1:]\n",
    "y_train = train.values[:,0]\n",
    "X_test = test.values[:,1:]\n",
    "y_test = test.values[:,0]"
   ]
  },
  {
   "cell_type": "code",
   "execution_count": 17,
   "metadata": {},
   "outputs": [
    {
     "data": {
      "text/plain": [
       "array([0, 1, 2, 3, 4, 5, 6, 7, 8, 9])"
      ]
     },
     "execution_count": 17,
     "metadata": {},
     "output_type": "execute_result"
    }
   ],
   "source": [
    "train.iloc[:,0].unique() #check the unique labels"
   ]
  },
  {
   "cell_type": "code",
   "execution_count": 18,
   "metadata": {},
   "outputs": [
    {
     "name": "stdout",
     "output_type": "stream",
     "text": [
      "['0', '1', '2', '3', '4', '5', '6', '7', '8', '9']\n"
     ]
    },
    {
     "data": {
      "image/png": "[encoded data removed]",
      "text/plain": [
       "<Figure size 432x288 with 40 Axes>"
      ]
     },
     "metadata": {
      "needs_background": "light"
     },
     "output_type": "display_data"
    }
   ],
   "source": [
    "classes = [\"0\", \"1\", \"2\", \"3\", \"4\", \"5\", \"6\", \"7\", \"8\", \"9\"]\n",
    "rows = 4\n",
    "\n",
    "print(classes)\n",
    "for y, cls in enumerate(classes):\n",
    "    idxs = np.nonzero([i == y for i in y_train])\n",
    "    idxs = np.random.choice(idxs[0], rows)\n",
    "    for i , idx in enumerate(idxs):\n",
    "        plt_idx = i * len(classes) + y + 1\n",
    "        plt.subplot(rows, len(classes), plt_idx)\n",
    "        plt.imshow(X_train[idx].reshape((28, 28)))\n",
    "        plt.axis(\"off\")\n",
    "        if i == 0:\n",
    "            plt.title(cls)   \n",
    "\n",
    "plt.show()\n",
    "\n",
    "# show some pictures"
   ]
  },
  {
   "cell_type": "code",
   "execution_count": 21,
   "metadata": {},
   "outputs": [
    {
     "name": "stdout",
     "output_type": "stream",
     "text": [
      "(48000, 784) (12000, 784) (48000,) (12000,)\n"
     ]
    }
   ],
   "source": [
    "X_train,X_vali, y_train, y_vali = train_test_split(X_train,\n",
    "                                                   y_train,\n",
    "                                                   test_size = 0.2)\n",
    "\n",
    "print(X_train.shape, X_vali.shape, y_train.shape, y_vali.shape)"
   ]
  },
  {
   "cell_type": "code",
   "execution_count": 23,
   "metadata": {},
   "outputs": [
    {
     "name": "stdout",
     "output_type": "stream",
     "text": [
      "k = 1 begin \n",
      "              precision    recall  f1-score   support\n",
      "\n",
      "           0       0.97      0.98      0.97      1164\n",
      "           1       0.97      0.99      0.98      1183\n",
      "           2       1.00      1.00      1.00      1195\n",
      "           3       0.99      0.98      0.98      1141\n",
      "           4       0.99      0.99      0.99      1213\n",
      "           5       1.00      0.99      0.99      1227\n",
      "           6       0.97      0.97      0.97      1221\n",
      "           7       0.95      0.97      0.96      1172\n",
      "           8       1.00      0.98      0.99      1240\n",
      "           9       0.99      0.98      0.98      1244\n",
      "\n",
      "    accuracy                           0.98     12000\n",
      "   macro avg       0.98      0.98      0.98     12000\n",
      "weighted avg       0.98      0.98      0.98     12000\n",
      "\n",
      "[[1135   24    0    1    0    0    0    0    2    2]\n",
      " [   7 1176    0    0    0    0    0    0    0    0]\n",
      " [   2    0 1190    1    0    0    1    1    0    0]\n",
      " [   7    0    1 1116    3    1    1   12    0    0]\n",
      " [   0    1    0    1 1203    3    0    4    0    1]\n",
      " [   1    3    1    4    5 1210    1    2    0    0]\n",
      " [   0    0    1    0    0    0 1179   36    0    5]\n",
      " [   0    0    1    6    0    0   18 1140    0    7]\n",
      " [  19    2    0    0    1    0    0    0 1217    1]\n",
      " [   0    2    0    0    1    0   13    6    0 1222]]\n",
      "Complete time: 686.3118052482605 Secs.\n",
      "k = 2 begin \n",
      "              precision    recall  f1-score   support\n",
      "\n",
      "           0       0.95      0.98      0.96      1164\n",
      "           1       0.97      0.99      0.98      1183\n",
      "           2       1.00      1.00      1.00      1195\n",
      "           3       0.98      0.98      0.98      1141\n",
      "           4       0.98      0.99      0.99      1213\n",
      "           5       1.00      0.97      0.99      1227\n",
      "           6       0.95      0.99      0.97      1221\n",
      "           7       0.97      0.95      0.96      1172\n",
      "           8       1.00      0.97      0.98      1240\n",
      "           9       1.00      0.97      0.99      1244\n",
      "\n",
      "    accuracy                           0.98     12000\n",
      "   macro avg       0.98      0.98      0.98     12000\n",
      "weighted avg       0.98      0.98      0.98     12000\n",
      "\n",
      "[[1143   19    0    0    0    0    1    0    1    0]\n",
      " [  14 1169    0    0    0    0    0    0    0    0]\n",
      " [   3    0 1190    1    0    0    0    1    0    0]\n",
      " [  11    0    2 1121    3    0    0    4    0    0]\n",
      " [   0    2    0    3 1205    1    0    2    0    0]\n",
      " [   1    7    1    9   13 1194    1    1    0    0]\n",
      " [   0    0    1    0    0    0 1205   14    0    1]\n",
      " [   1    1    1    8    2    0   41 1117    0    1]\n",
      " [  33    2    0    0    1    0    0    0 1203    1]\n",
      " [   1    2    0    0    1    0   17   10    2 1211]]\n",
      "Complete time: 734.5055832862854 Secs.\n",
      "k = 3 begin \n",
      "              precision    recall  f1-score   support\n",
      "\n",
      "           0       0.97      0.97      0.97      1164\n",
      "           1       0.97      1.00      0.98      1183\n",
      "           2       1.00      0.99      1.00      1195\n",
      "           3       0.99      0.98      0.99      1141\n",
      "           4       0.99      0.99      0.99      1213\n",
      "           5       1.00      0.98      0.99      1227\n",
      "           6       0.97      0.97      0.97      1221\n",
      "           7       0.96      0.97      0.97      1172\n",
      "           8       1.00      0.98      0.99      1240\n",
      "           9       1.00      0.98      0.99      1244\n",
      "\n",
      "    accuracy                           0.98     12000\n",
      "   macro avg       0.98      0.98      0.98     12000\n",
      "weighted avg       0.98      0.98      0.98     12000\n",
      "\n",
      "[[1131   30    0    1    0    0    0    1    1    0]\n",
      " [   5 1178    0    0    0    0    0    0    0    0]\n",
      " [   3    0 1189    1    0    0    1    1    0    0]\n",
      " [   6    1    1 1122    2    1    0    8    0    0]\n",
      " [   0    1    0    2 1205    1    0    3    0    1]\n",
      " [   0    6    1    5    6 1207    1    1    0    0]\n",
      " [   0    0    1    0    1    0 1190   27    0    2]\n",
      " [   1    1    1    6    2    0   17 1142    0    2]\n",
      " [  20    2    0    0    1    0    0    0 1216    1]\n",
      " [   1    0    0    0    2    0   13    9    2 1217]]\n",
      "Complete time: 727.107387304306 Secs.\n",
      "k = 4 begin \n",
      "              precision    recall  f1-score   support\n",
      "\n",
      "           0       0.96      0.98      0.97      1164\n",
      "           1       0.97      1.00      0.98      1183\n",
      "           2       1.00      0.99      0.99      1195\n",
      "           3       0.98      0.98      0.98      1141\n",
      "           4       0.99      0.99      0.99      1213\n",
      "           5       1.00      0.98      0.99      1227\n",
      "           6       0.96      0.98      0.97      1221\n",
      "           7       0.96      0.96      0.96      1172\n",
      "           8       1.00      0.97      0.99      1240\n",
      "           9       0.99      0.98      0.98      1244\n",
      "\n",
      "    accuracy                           0.98     12000\n",
      "   macro avg       0.98      0.98      0.98     12000\n",
      "weighted avg       0.98      0.98      0.98     12000\n",
      "\n",
      "[[1139   22    0    1    0    0    0    1    1    0]\n",
      " [   5 1178    0    0    0    0    0    0    0    0]\n",
      " [   4    0 1188    1    0    0    1    1    0    0]\n",
      " [   6    1    2 1122    2    0    0    8    0    0]\n",
      " [   0    1    0    2 1206    1    0    2    0    1]\n",
      " [   1    6    1    8    8 1201    1    1    0    0]\n",
      " [   0    0    1    1    0    0 1197   19    0    3]\n",
      " [   1    1    1    9    2    0   33 1123    0    2]\n",
      " [  28    2    0    0    1    0    0    0 1208    1]\n",
      " [   1    0    0    0    3    0   14   10    2 1214]]\n",
      "Complete time: 707.8178329467773 Secs.\n",
      "k = 5 begin \n",
      "              precision    recall  f1-score   support\n",
      "\n",
      "           0       0.97      0.97      0.97      1164\n",
      "           1       0.96      1.00      0.98      1183\n",
      "           2       1.00      0.99      1.00      1195\n",
      "           3       0.99      0.98      0.98      1141\n",
      "           4       0.99      0.99      0.99      1213\n",
      "           5       1.00      0.98      0.99      1227\n",
      "           6       0.97      0.97      0.97      1221\n",
      "           7       0.96      0.97      0.96      1172\n",
      "           8       1.00      0.98      0.99      1240\n",
      "           9       1.00      0.98      0.99      1244\n",
      "\n",
      "    accuracy                           0.98     12000\n",
      "   macro avg       0.98      0.98      0.98     12000\n",
      "weighted avg       0.98      0.98      0.98     12000\n",
      "\n",
      "[[1126   34    0    2    0    0    0    1    1    0]\n",
      " [   4 1179    0    0    0    0    0    0    0    0]\n",
      " [   3    0 1189    1    0    0    1    1    0    0]\n",
      " [   6    1    1 1120    3    1    0    9    0    0]\n",
      " [   0    1    0    2 1206    1    0    2    0    1]\n",
      " [   1    6    1    5    7 1205    1    1    0    0]\n",
      " [   0    0    1    1    0    0 1188   28    0    3]\n",
      " [   1    0    0    5    3    0   23 1139    0    1]\n",
      " [  23    2    0    0    1    0    0    0 1213    1]\n",
      " [   1    0    0    0    3    0   13   11    2 1214]]\n",
      "Complete time: 685.2838389873505 Secs.\n",
      "k = 6 begin \n",
      "              precision    recall  f1-score   support\n",
      "\n",
      "           0       0.96      0.97      0.97      1164\n",
      "           1       0.96      1.00      0.98      1183\n",
      "           2       1.00      0.99      1.00      1195\n",
      "           3       0.98      0.98      0.98      1141\n",
      "           4       0.98      1.00      0.99      1213\n",
      "           5       1.00      0.98      0.99      1227\n",
      "           6       0.96      0.98      0.97      1221\n",
      "           7       0.96      0.96      0.96      1172\n",
      "           8       1.00      0.97      0.99      1240\n",
      "           9       0.99      0.97      0.98      1244\n",
      "\n",
      "    accuracy                           0.98     12000\n",
      "   macro avg       0.98      0.98      0.98     12000\n",
      "weighted avg       0.98      0.98      0.98     12000\n",
      "\n",
      "[[1129   32    0    2    0    0    0    0    1    0]\n",
      " [   5 1178    0    0    0    0    0    0    0    0]\n",
      " [   4    0 1188    1    0    0    1    1    0    0]\n",
      " [   7    1    2 1120    3    1    0    7    0    0]\n",
      " [   0    1    0    2 1207    1    0    1    0    1]\n",
      " [   0    7    1    8    9 1200    1    1    0    0]\n",
      " [   0    0    1    1    0    0 1194   21    0    4]\n",
      " [   1    1    0    7    4    0   30 1128    0    1]\n",
      " [  27    2    0    0    1    0    0    0 1209    1]\n",
      " [   0    0    0    1    3    0   15   12    2 1211]]\n",
      "Complete time: 738.269948720932 Secs.\n",
      "k = 7 begin \n",
      "              precision    recall  f1-score   support\n",
      "\n",
      "           0       0.97      0.97      0.97      1164\n",
      "           1       0.96      1.00      0.98      1183\n",
      "           2       1.00      0.99      1.00      1195\n",
      "           3       0.99      0.98      0.98      1141\n",
      "           4       0.98      0.99      0.99      1213\n",
      "           5       1.00      0.98      0.99      1227\n",
      "           6       0.97      0.97      0.97      1221\n",
      "           7       0.95      0.97      0.96      1172\n",
      "           8       1.00      0.98      0.99      1240\n",
      "           9       0.99      0.97      0.98      1244\n",
      "\n",
      "    accuracy                           0.98     12000\n",
      "   macro avg       0.98      0.98      0.98     12000\n",
      "weighted avg       0.98      0.98      0.98     12000\n",
      "\n",
      "[[1128   34    0    1    0    0    0    0    1    0]\n",
      " [   4 1179    0    0    0    0    0    0    0    0]\n",
      " [   3    0 1189    1    0    0    1    1    0    0]\n",
      " [   7    1    1 1119    3    1    0    9    0    0]\n",
      " [   0    1    0    2 1205    1    0    3    0    1]\n",
      " [   0    6    1    5    9 1204    1    1    0    0]\n",
      " [   0    0    1    1    0    0 1187   27    0    5]\n",
      " [   1    1    0    4    3    0   25 1137    0    1]\n",
      " [  25    2    0    0    1    0    0    0 1211    1]\n",
      " [   0    0    0    1    3    0   13   13    2 1212]]\n",
      "Complete time: 705.1734030246735 Secs.\n",
      "k = 8 begin \n"
     ]
    },
    {
     "name": "stdout",
     "output_type": "stream",
     "text": [
      "              precision    recall  f1-score   support\n",
      "\n",
      "           0       0.96      0.97      0.97      1164\n",
      "           1       0.97      1.00      0.98      1183\n",
      "           2       1.00      0.99      1.00      1195\n",
      "           3       0.98      0.98      0.98      1141\n",
      "           4       0.98      1.00      0.99      1213\n",
      "           5       1.00      0.98      0.99      1227\n",
      "           6       0.96      0.98      0.97      1221\n",
      "           7       0.96      0.96      0.96      1172\n",
      "           8       1.00      0.97      0.99      1240\n",
      "           9       0.99      0.97      0.98      1244\n",
      "\n",
      "    accuracy                           0.98     12000\n",
      "   macro avg       0.98      0.98      0.98     12000\n",
      "weighted avg       0.98      0.98      0.98     12000\n",
      "\n",
      "[[1131   30    0    2    0    0    0    0    1    0]\n",
      " [   5 1178    0    0    0    0    0    0    0    0]\n",
      " [   3    0 1189    1    0    0    1    1    0    0]\n",
      " [   7    1    1 1119    4    1    0    8    0    0]\n",
      " [   0    1    0    2 1207    1    0    1    0    1]\n",
      " [   0    6    1    8   11 1199    1    1    0    0]\n",
      " [   0    0    1    1    0    0 1197   18    0    4]\n",
      " [   1    1    0    6    2    0   34 1127    0    1]\n",
      " [  28    2    0    0    1    0    0    0 1208    1]\n",
      " [   0    0    0    0    3    0   14   15    2 1210]]\n",
      "Complete time: 688.3173837661743 Secs.\n",
      "k = 9 begin \n",
      "              precision    recall  f1-score   support\n",
      "\n",
      "           0       0.96      0.97      0.97      1164\n",
      "           1       0.96      1.00      0.98      1183\n",
      "           2       1.00      0.99      1.00      1195\n",
      "           3       0.98      0.98      0.98      1141\n",
      "           4       0.98      0.99      0.99      1213\n",
      "           5       1.00      0.98      0.99      1227\n",
      "           6       0.96      0.98      0.97      1221\n",
      "           7       0.96      0.97      0.96      1172\n",
      "           8       1.00      0.97      0.99      1240\n",
      "           9       0.99      0.97      0.98      1244\n",
      "\n",
      "    accuracy                           0.98     12000\n",
      "   macro avg       0.98      0.98      0.98     12000\n",
      "weighted avg       0.98      0.98      0.98     12000\n",
      "\n",
      "[[1125   36    0    1    0    0    1    0    1    0]\n",
      " [   3 1180    0    0    0    0    0    0    0    0]\n",
      " [   3    0 1188    1    1    0    1    1    0    0]\n",
      " [   8    1    1 1116    4    1    0   10    0    0]\n",
      " [   0    1    0    2 1205    1    0    3    0    1]\n",
      " [   0    6    1    6   11 1201    1    1    0    0]\n",
      " [   0    0    1    1    0    0 1192   23    0    4]\n",
      " [   1    1    0    5    3    0   29 1132    0    1]\n",
      " [  27    2    0    0    1    0    0    0 1209    1]\n",
      " [   0    0    0    1    4    0   15   14    2 1208]]\n",
      "Complete time: 683.2857909202576 Secs.\n"
     ]
    }
   ],
   "source": [
    "ans_k = 0\n",
    "\n",
    "k_range = range(1, 10)\n",
    "scores = []\n",
    "\n",
    "for k in k_range:\n",
    "    print(\"k = \" + str(k) + \" begin \")\n",
    "    start = time.time()\n",
    "    knn = KNeighborsClassifier(n_neighbors=k)\n",
    "    knn.fit(X_train,y_train)\n",
    "    y_pred = knn.predict(X_vali)\n",
    "    accuracy = accuracy_score(y_vali,y_pred)\n",
    "    scores.append(accuracy)\n",
    "    end = time.time()\n",
    "    print(classification_report(y_vali, y_pred))  \n",
    "    print(confusion_matrix(y_vali, y_pred))  \n",
    "    \n",
    "    print(\"Complete time: \" + str(end-start) + \" Secs.\")"
   ]
  },
  {
   "cell_type": "code",
   "execution_count": 24,
   "metadata": {},
   "outputs": [
    {
     "name": "stdout",
     "output_type": "stream",
     "text": [
      "[0.9823333333333333, 0.9798333333333333, 0.9830833333333333, 0.9813333333333333, 0.9815833333333334, 0.9803333333333333, 0.9809166666666667, 0.9804166666666667, 0.9796666666666667]\n"
     ]
    },
    {
     "data": {
      "image/png": "[encoded data removed]",
      "text/plain": [
       "<Figure size 432x288 with 1 Axes>"
      ]
     },
     "metadata": {
      "needs_background": "light"
     },
     "output_type": "display_data"
    }
   ],
   "source": [
    "print (scores)\n",
    "plt.plot(k_range,scores)\n",
    "plt.xlabel('Value of K')\n",
    "plt.ylabel('Testing accuracy')\n",
    "plt.show()"
   ]
  },
  {
   "cell_type": "code",
   "execution_count": 26,
   "metadata": {},
   "outputs": [],
   "source": [
    "k = 3\n",
    "\n",
    "knn = KNeighborsClassifier(n_neighbors=k)\n",
    "knn.fit(X_train,y_train)"
   ]
  },
  {
   "cell_type": "code",
   "execution_count": 34,
   "metadata": {},
   "outputs": [],
   "source": [
    "y_pred = knn.predict(X_test)"
   ]
  },
  {
   "cell_type": "code",
   "execution_count": 46,
   "metadata": {},
   "outputs": [],
   "source": [
    "index = np.array(test.index)"
   ]
  },
  {
   "cell_type": "code",
   "execution_count": 54,
   "metadata": {},
   "outputs": [],
   "source": [
    "res = pd.DataFrame(np.concatenate([index[:,np.newaxis], y_pred[:,np.newaxis]], axis = 1), columns = ['id', 'label'])"
   ]
  },
  {
   "cell_type": "code",
   "execution_count": 55,
   "metadata": {},
   "outputs": [],
   "source": [
    "res.to_csv('res.csv', index = False)"
   ]
  },
  {
   "cell_type": "code",
   "execution_count": null,
   "metadata": {},
   "outputs": [],
   "source": []
  }
 ],
 "metadata": {
  "kernelspec": {
   "display_name": "Python 3",
   "language": "python",
   "name": "python3"
  },
  "language_info": {
   "codemirror_mode": {
    "name": "ipython",
    "version": 3
   },
   "file_extension": ".py",
   "mimetype": "text/x-python",
   "name": "python",
   "nbconvert_exporter": "python",
   "pygments_lexer": "ipython3",
   "version": "3.7.6"
  }
 },
 "nbformat": 4,
 "nbformat_minor": 4
}
