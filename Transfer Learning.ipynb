{
 "cells": [
  {
   "cell_type": "code",
   "execution_count": 75,
   "metadata": {
    "_cell_guid": "b1076dfc-b9ad-4769-8c92-a6c4dae69d19",
    "_uuid": "8f2839f25d086af736a60e9eeb907d3b93b6e0e5"
   },
   "outputs": [],
   "source": [
    "# This Python 3 environment comes with many helpful analytics libraries installed\n",
    "# It is defined by the kaggle/python Docker image: https://github.com/kaggle/docker-python\n",
    "# For example, here's several helpful packages to load\n",
    "\n",
    "import numpy as np # linear algebra\n",
    "import pandas as pd # data processing, CSV file I/O (e.g. pd.read_csv)\n",
    "\n",
    "# Input data files are available in the read-only \"../input/\" directory\n",
    "# For example, running this (by clicking run or pressing Shift+Enter) will list all files under the input directory\n",
    "\n",
    "# import os\n",
    "# for dirname, _, filenames in os.walk('/kaggle/input'):\n",
    "#     for filename in filenames:\n",
    "#         print(os.path.join(dirname, filename))\n",
    "\n",
    "# You can write up to 5GB to the current directory (/kaggle/working/) that gets preserved as output when you create a version using \"Save & Run All\" \n",
    "# You can also write temporary files to /kaggle/temp/, but they won't be saved outside of the current session"
   ]
  },
  {
   "cell_type": "code",
   "execution_count": 76,
   "metadata": {},
   "outputs": [],
   "source": [
    "from PIL import Image\n",
    "from tensorflow.keras.utils import to_categorical"
   ]
  },
  {
   "cell_type": "code",
   "execution_count": 77,
   "metadata": {},
   "outputs": [],
   "source": [
    "data_dir = \"./Kannada-MNIST/\""
   ]
  },
  {
   "cell_type": "code",
   "execution_count": 78,
   "metadata": {
    "_cell_guid": "79c7e3d0-c299-4dcb-8224-4455121ee9b0",
    "_uuid": "d629ff2d2480ee46fbb7e2d37f6b5fab8052498a"
   },
   "outputs": [
    {
     "data": {
      "text/plain": [
       "(60000, 785)"
      ]
     },
     "execution_count": 78,
     "metadata": {},
     "output_type": "execute_result"
    }
   ],
   "source": [
    "# data_dir = \"/kaggle/input/Kannada-MNIST/\"\n",
    "train = pd.read_csv(data_dir + \"train.csv\")\n",
    "train.shape"
   ]
  },
  {
   "cell_type": "code",
   "execution_count": 79,
   "metadata": {},
   "outputs": [
    {
     "data": {
      "text/plain": [
       "(5000, 785)"
      ]
     },
     "execution_count": 79,
     "metadata": {},
     "output_type": "execute_result"
    }
   ],
   "source": [
    "test = pd.read_csv(data_dir + \"test.csv\")\n",
    "test.shape"
   ]
  },
  {
   "cell_type": "code",
   "execution_count": 80,
   "metadata": {},
   "outputs": [],
   "source": [
    "X_train_ = train.iloc[:,1:]\n",
    "y_train_ = train.iloc[:,0]\n",
    "X_test_ = test.iloc[:,1:]"
   ]
  },
  {
   "cell_type": "code",
   "execution_count": 81,
   "metadata": {},
   "outputs": [],
   "source": [
    "def oneD_to_threeD(images, labels, row_number, shape=28):\n",
    "    images = images.iloc[0:row_number,:].values #取出部分数据（此处500）并转为uint8格式方便CV处理\n",
    "    labels = labels.iloc[0:row_number]\n",
    "    train_data = []\n",
    "    for i in range(row_number):\n",
    "        img = images[i,:]\n",
    "        img = img.reshape(28, 28) #reshape为2维矩阵\n",
    "        img = Image.fromarray(img.astype('uint8')).convert('RGB') #转化为image方便resize并转化为三通道图像\n",
    "        resized_img = img.resize((shape,shape), Image.ANTIALIAS) #resize到需要的尺寸\n",
    "        resized_img = np.array(resized_img).astype('float32') #重新转化为array以输入神经网络\n",
    "        train_data.append(resized_img)\n",
    "    train_data=np.array(train_data).astype('float32') #转为float32格式方便神经网络识别\n",
    "    labels = to_categorical(labels) #标签化label\n",
    "    return train_data, labels"
   ]
  },
  {
   "cell_type": "code",
   "execution_count": 82,
   "metadata": {},
   "outputs": [],
   "source": [
    "X_train, y_train= oneD_to_threeD(X_train_, y_train_, 5000)"
   ]
  },
  {
   "cell_type": "code",
   "execution_count": 83,
   "metadata": {},
   "outputs": [
    {
     "data": {
      "text/plain": [
       "(5000, 28, 28, 3)"
      ]
     },
     "execution_count": 83,
     "metadata": {},
     "output_type": "execute_result"
    }
   ],
   "source": [
    "X_train.shape"
   ]
  },
  {
   "cell_type": "code",
   "execution_count": 84,
   "metadata": {},
   "outputs": [
    {
     "data": {
      "text/plain": [
       "(5000, 10)"
      ]
     },
     "execution_count": 84,
     "metadata": {},
     "output_type": "execute_result"
    }
   ],
   "source": [
    "y_train.shape"
   ]
  },
  {
   "cell_type": "code",
   "execution_count": 85,
   "metadata": {},
   "outputs": [],
   "source": [
    "from tensorflow import keras\n",
    "from tensorflow.keras.models import Sequential\n",
    "from tensorflow.keras.layers import Dense, Conv2D, Dropout, MaxPooling2D, GlobalAveragePooling2D\n",
    "\n",
    "from tensorflow.keras.preprocessing.image import ImageDataGenerator\n",
    "from tensorflow.keras.callbacks import ReduceLROnPlateau\n",
    "\n",
    "import matplotlib.pyplot as plt\n",
    "%matplotlib inline"
   ]
  },
  {
   "cell_type": "code",
   "execution_count": 86,
   "metadata": {},
   "outputs": [],
   "source": [
    "import cv2"
   ]
  },
  {
   "cell_type": "code",
   "execution_count": 87,
   "metadata": {},
   "outputs": [],
   "source": [
    "def reshape_28_to_96(images):\n",
    "    data = []\n",
    "    for i in range(len(images)):\n",
    "        width = 96\n",
    "        height = 96\n",
    "        dim = (width, height)\n",
    "        # resize image\n",
    "        resized = cv2.resize(images[i], dim, interpolation = cv2.INTER_AREA)\n",
    "        resized_img = np.array(resized).astype('float32') \n",
    "        data.append(resized_img)\n",
    "    data=np.array(data).astype('float32') \n",
    "    return data"
   ]
  },
  {
   "cell_type": "code",
   "execution_count": 88,
   "metadata": {},
   "outputs": [],
   "source": [
    "X_train = reshape_28_to_96(X_train)"
   ]
  },
  {
   "cell_type": "code",
   "execution_count": 89,
   "metadata": {},
   "outputs": [
    {
     "name": "stdout",
     "output_type": "stream",
     "text": [
      "(4000, 96, 96, 3) (1000, 96, 96, 3) (4000, 10) (1000, 10)\n"
     ]
    }
   ],
   "source": [
    "from sklearn.model_selection import train_test_split\n",
    "X_train,X_vali, y_train, y_vali = train_test_split(X_train,\n",
    "                                                   y_train,\n",
    "                                                   test_size = 0.2)\n",
    "\n",
    "print(X_train.shape, X_vali.shape, y_train.shape, y_vali.shape)"
   ]
  },
  {
   "cell_type": "code",
   "execution_count": 96,
   "metadata": {},
   "outputs": [],
   "source": [
    "# plt.imshow(X_train[200])"
   ]
  },
  {
   "cell_type": "code",
   "execution_count": 97,
   "metadata": {},
   "outputs": [],
   "source": [
    "base_model = keras.applications.MobileNetV2(weights = 'imagenet', input_shape = (96, 96, 3), include_top = False)"
   ]
  },
  {
   "cell_type": "code",
   "execution_count": 98,
   "metadata": {},
   "outputs": [],
   "source": [
    "base_model.trainable = False"
   ]
  },
  {
   "cell_type": "code",
   "execution_count": 99,
   "metadata": {},
   "outputs": [
    {
     "name": "stdout",
     "output_type": "stream",
     "text": [
      "Model: \"sequential_2\"\n",
      "_________________________________________________________________\n",
      "Layer (type)                 Output Shape              Param #   \n",
      "=================================================================\n",
      "mobilenetv2_1.00_96 (Model)  (None, 3, 3, 1280)        2257984   \n",
      "_________________________________________________________________\n",
      "global_average_pooling2d_2 ( (None, 1280)              0         \n",
      "_________________________________________________________________\n",
      "dropout_2 (Dropout)          (None, 1280)              0         \n",
      "_________________________________________________________________\n",
      "dense_2 (Dense)              (None, 10)                12810     \n",
      "=================================================================\n",
      "Total params: 2,270,794\n",
      "Trainable params: 12,810\n",
      "Non-trainable params: 2,257,984\n",
      "_________________________________________________________________\n"
     ]
    }
   ],
   "source": [
    "model = Sequential([\n",
    "    base_model,\n",
    "    GlobalAveragePooling2D(), \n",
    "    Dropout(0.4), \n",
    "    Dense(10, activation = 'softmax')])\n",
    "\n",
    "model.summary()"
   ]
  },
  {
   "cell_type": "code",
   "execution_count": 100,
   "metadata": {},
   "outputs": [],
   "source": [
    "optimizer = keras.optimizers.Adam(learning_rate = 0.001, beta_1 = 0.9, beta_2 = 0.999)\n",
    "model.compile(optimizer=optimizer,\n",
    "              loss=['categorical_crossentropy'],\n",
    "              metrics=['accuracy'])"
   ]
  },
  {
   "cell_type": "code",
   "execution_count": 101,
   "metadata": {},
   "outputs": [],
   "source": [
    "datagen = ImageDataGenerator(\n",
    "    rotation_range=10,\n",
    "    width_shift_range=0.1,\n",
    "    height_shift_range=0.1,\n",
    "    zoom_range=0.1)"
   ]
  },
  {
   "cell_type": "code",
   "execution_count": 102,
   "metadata": {},
   "outputs": [],
   "source": [
    "datagen.fit(X_train)"
   ]
  },
  {
   "cell_type": "code",
   "execution_count": 103,
   "metadata": {},
   "outputs": [],
   "source": [
    "reduce_lr = ReduceLROnPlateau(monitor='val_accuracy', factor=0.5, verbose = 1,\n",
    "                              patience=3, min_lr=0.00001)"
   ]
  },
  {
   "cell_type": "code",
   "execution_count": 106,
   "metadata": {},
   "outputs": [
    {
     "name": "stdout",
     "output_type": "stream",
     "text": [
      "Epoch 1/30\n",
      "62/62 - 17s - loss: 0.2649 - accuracy: 0.9158 - val_loss: 0.1977 - val_accuracy: 0.9400 - lr: 0.0010\n",
      "Epoch 2/30\n",
      "62/62 - 17s - loss: 0.2433 - accuracy: 0.9248 - val_loss: 0.1839 - val_accuracy: 0.9440 - lr: 0.0010\n",
      "Epoch 3/30\n",
      "62/62 - 17s - loss: 0.2092 - accuracy: 0.9365 - val_loss: 0.1615 - val_accuracy: 0.9510 - lr: 0.0010\n",
      "Epoch 4/30\n",
      "62/62 - 17s - loss: 0.2160 - accuracy: 0.9355 - val_loss: 0.1549 - val_accuracy: 0.9520 - lr: 0.0010\n",
      "Epoch 5/30\n",
      "62/62 - 17s - loss: 0.2002 - accuracy: 0.9342 - val_loss: 0.1597 - val_accuracy: 0.9480 - lr: 0.0010\n",
      "Epoch 6/30\n",
      "62/62 - 17s - loss: 0.1928 - accuracy: 0.9383 - val_loss: 0.1549 - val_accuracy: 0.9490 - lr: 0.0010\n",
      "Epoch 7/30\n",
      "\n",
      "Epoch 00007: ReduceLROnPlateau reducing learning rate to 0.0005000000237487257.\n",
      "62/62 - 17s - loss: 0.2116 - accuracy: 0.9332 - val_loss: 0.1568 - val_accuracy: 0.9490 - lr: 0.0010\n",
      "Epoch 8/30\n",
      "62/62 - 18s - loss: 0.1664 - accuracy: 0.9474 - val_loss: 0.1342 - val_accuracy: 0.9570 - lr: 5.0000e-04\n",
      "Epoch 9/30\n",
      "62/62 - 17s - loss: 0.1645 - accuracy: 0.9492 - val_loss: 0.1317 - val_accuracy: 0.9600 - lr: 5.0000e-04\n",
      "Epoch 10/30\n",
      "62/62 - 17s - loss: 0.1679 - accuracy: 0.9474 - val_loss: 0.1379 - val_accuracy: 0.9560 - lr: 5.0000e-04\n",
      "Epoch 11/30\n",
      "62/62 - 17s - loss: 0.1749 - accuracy: 0.9388 - val_loss: 0.1260 - val_accuracy: 0.9610 - lr: 5.0000e-04\n",
      "Epoch 12/30\n",
      "62/62 - 17s - loss: 0.1591 - accuracy: 0.9502 - val_loss: 0.1230 - val_accuracy: 0.9620 - lr: 5.0000e-04\n",
      "Epoch 13/30\n",
      "62/62 - 17s - loss: 0.1529 - accuracy: 0.9538 - val_loss: 0.1263 - val_accuracy: 0.9620 - lr: 5.0000e-04\n",
      "Epoch 14/30\n",
      "62/62 - 17s - loss: 0.1678 - accuracy: 0.9502 - val_loss: 0.1328 - val_accuracy: 0.9610 - lr: 5.0000e-04\n",
      "Epoch 15/30\n",
      "62/62 - 17s - loss: 0.1620 - accuracy: 0.9492 - val_loss: 0.1219 - val_accuracy: 0.9640 - lr: 5.0000e-04\n",
      "Epoch 16/30\n",
      "62/62 - 17s - loss: 0.1565 - accuracy: 0.9540 - val_loss: 0.1308 - val_accuracy: 0.9580 - lr: 5.0000e-04\n",
      "Epoch 17/30\n",
      "62/62 - 17s - loss: 0.1377 - accuracy: 0.9540 - val_loss: 0.1244 - val_accuracy: 0.9620 - lr: 5.0000e-04\n",
      "Epoch 18/30\n",
      "\n",
      "Epoch 00018: ReduceLROnPlateau reducing learning rate to 0.0002500000118743628.\n",
      "62/62 - 17s - loss: 0.1576 - accuracy: 0.9466 - val_loss: 0.1327 - val_accuracy: 0.9570 - lr: 5.0000e-04\n",
      "Epoch 19/30\n",
      "62/62 - 17s - loss: 0.1581 - accuracy: 0.9479 - val_loss: 0.1237 - val_accuracy: 0.9560 - lr: 2.5000e-04\n",
      "Epoch 20/30\n",
      "62/62 - 17s - loss: 0.1396 - accuracy: 0.9550 - val_loss: 0.1203 - val_accuracy: 0.9610 - lr: 2.5000e-04\n",
      "Epoch 21/30\n",
      "62/62 - 19s - loss: 0.1436 - accuracy: 0.9525 - val_loss: 0.1181 - val_accuracy: 0.9650 - lr: 2.5000e-04\n",
      "Epoch 22/30\n",
      "62/62 - 17s - loss: 0.1381 - accuracy: 0.9573 - val_loss: 0.1214 - val_accuracy: 0.9610 - lr: 2.5000e-04\n",
      "Epoch 23/30\n",
      "62/62 - 18s - loss: 0.1517 - accuracy: 0.9502 - val_loss: 0.1138 - val_accuracy: 0.9640 - lr: 2.5000e-04\n",
      "Epoch 24/30\n",
      "\n",
      "Epoch 00024: ReduceLROnPlateau reducing learning rate to 0.0001250000059371814.\n",
      "62/62 - 19s - loss: 0.1276 - accuracy: 0.9621 - val_loss: 0.1171 - val_accuracy: 0.9630 - lr: 2.5000e-04\n",
      "Epoch 25/30\n",
      "62/62 - 18s - loss: 0.1452 - accuracy: 0.9520 - val_loss: 0.1137 - val_accuracy: 0.9660 - lr: 1.2500e-04\n",
      "Epoch 26/30\n",
      "62/62 - 18s - loss: 0.1388 - accuracy: 0.9566 - val_loss: 0.1134 - val_accuracy: 0.9640 - lr: 1.2500e-04\n",
      "Epoch 27/30\n",
      "62/62 - 18s - loss: 0.1348 - accuracy: 0.9578 - val_loss: 0.1123 - val_accuracy: 0.9660 - lr: 1.2500e-04\n",
      "Epoch 28/30\n",
      "\n",
      "Epoch 00028: ReduceLROnPlateau reducing learning rate to 6.25000029685907e-05.\n",
      "62/62 - 18s - loss: 0.1437 - accuracy: 0.9555 - val_loss: 0.1123 - val_accuracy: 0.9650 - lr: 1.2500e-04\n",
      "Epoch 29/30\n",
      "62/62 - 18s - loss: 0.1287 - accuracy: 0.9583 - val_loss: 0.1148 - val_accuracy: 0.9630 - lr: 6.2500e-05\n",
      "Epoch 30/30\n",
      "62/62 - 17s - loss: 0.1376 - accuracy: 0.9515 - val_loss: 0.1141 - val_accuracy: 0.9620 - lr: 6.2500e-05\n"
     ]
    }
   ],
   "source": [
    "epochs = 30\n",
    "batch_size = 64\n",
    "history = model.fit(datagen.flow(X_train, y_train, batch_size=batch_size), epochs=epochs, \n",
    "                    steps_per_epoch=len(X_train) // batch_size, verbose = 2,\n",
    "                    validation_data=(X_vali, y_vali), callbacks=[reduce_lr])"
   ]
  },
  {
   "cell_type": "code",
   "execution_count": 107,
   "metadata": {},
   "outputs": [
    {
     "data": {
      "text/plain": [
       "<matplotlib.legend.Legend at 0x7fcd41594810>"
      ]
     },
     "execution_count": 107,
     "metadata": {},
     "output_type": "execute_result"
    },
    {
     "data": {
      "image/png": "[encoded data removed]",
      "text/plain": [
       "<Figure size 432x288 with 1 Axes>"
      ]
     },
     "metadata": {
      "needs_background": "light"
     },
     "output_type": "display_data"
    }
   ],
   "source": [
    "plt.plot(history.history['accuracy'], label='accuracy')\n",
    "plt.plot(history.history['val_accuracy'], label = 'val_accuracy')\n",
    "plt.xlabel('Epoch')\n",
    "plt.ylabel('Accuracy')\n",
    "# plt.ylim([0.5, 1])\n",
    "plt.legend(loc='lower right')"
   ]
  },
  {
   "cell_type": "code",
   "execution_count": 108,
   "metadata": {},
   "outputs": [],
   "source": [
    "# X_test, y_train= oneD_to_threeD(X_test_, y_train_, 5000)"
   ]
  },
  {
   "cell_type": "code",
   "execution_count": 109,
   "metadata": {},
   "outputs": [],
   "source": [
    "# X_test = reshape_28_to_96(X_test)"
   ]
  },
  {
   "cell_type": "code",
   "execution_count": 110,
   "metadata": {},
   "outputs": [],
   "source": [
    "# predicted = model.predict(X_test)"
   ]
  },
  {
   "cell_type": "code",
   "execution_count": null,
   "metadata": {},
   "outputs": [],
   "source": []
  }
 ],
 "metadata": {
  "kernelspec": {
   "display_name": "Python 3",
   "language": "python",
   "name": "python3"
  },
  "language_info": {
   "codemirror_mode": {
    "name": "ipython",
    "version": 3
   },
   "file_extension": ".py",
   "mimetype": "text/x-python",
   "name": "python",
   "nbconvert_exporter": "python",
   "pygments_lexer": "ipython3",
   "version": "3.7.6"
  }
 },
 "nbformat": 4,
 "nbformat_minor": 4
}
